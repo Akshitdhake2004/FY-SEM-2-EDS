{
  "nbformat": 4,
  "nbformat_minor": 0,
  "metadata": {
    "colab": {
      "provenance": [],
      "authorship_tag": "ABX9TyM66kbnNZwM5IV0IBZJ9YAE",
      "include_colab_link": true
    },
    "kernelspec": {
      "name": "python3",
      "display_name": "Python 3"
    },
    "language_info": {
      "name": "python"
    }
  },
  "cells": [
    {
      "cell_type": "markdown",
      "metadata": {
        "id": "view-in-github",
        "colab_type": "text"
      },
      "source": [
        "<a href=\"https://colab.research.google.com/github/Akshitdhake2004/FY-SEM-2-EDS/blob/main/assignment_pynb.ipynb\" target=\"_parent\"><img src=\"https://colab.research.google.com/assets/colab-badge.svg\" alt=\"Open In Colab\"/></a>"
      ]
    },
    {
      "cell_type": "code",
      "execution_count": null,
      "metadata": {
        "colab": {
          "base_uri": "https://localhost:8080/"
        },
        "id": "DzcIMF7rv6oR",
        "outputId": "26ab8131-f1d3-481f-a484-3f1e69e36d1e"
      },
      "outputs": [
        {
          "output_type": "stream",
          "name": "stdout",
          "text": [
            "\n",
            "File 1 contents:  [['1', 'mayank', '337'], ['2', 'kausthub', '326'], ['3', 'pratham', '357'], ['4', 'shravani', '315'], ['5', 'nandini', '2']]\n",
            "\n",
            "File 2 contents:  [['1', '10'], ['2', '9.95'], ['3', '9.6'], ['4', '9'], ['5', '8.2']]\n",
            "[['1', 'mayank', '337', '1', '10'], ['2', 'kausthub', '326', '2', '9.95'], ['3', 'pratham', '357', '3', '9.6'], ['4', 'shravani', '315', '4', '9'], ['5', 'nandini', '2', '5', '8.2']]\n",
            "['5', 'nandini', '2', '5', '8.2']\n",
            "\n",
            "Maximum cgpa: 10.0\n",
            "Minimum cgpa: 8.2\n",
            "Sum of cgpa: 46.75\n",
            "Average cgpa: 9.35\n"
          ]
        }
      ],
      "source": [
        "`import csv\n",
        "\n",
        "f1=open(\"studentttt.csv\",\"r\")\n",
        "f2=open(\"grades.csv\",\"r\")\n",
        "f3=open(\"stud_info\",\"w\")\n",
        "\n",
        "d1=list(csv.reader(f1,delimiter=\",\"))\n",
        "d2=list(csv.reader(f2,delimiter=\",\"))\n",
        "\n",
        "print(\"\\nFile 1 contents: \",d1)\n",
        "print(\"\\nFile 2 contents: \",d2)\n",
        "d3=[]\n",
        "for i in range (len(d1)):\n",
        "  d3.append(d1[i]+d2[i])\n",
        "\n",
        "print(d3)\n",
        "cw=csv.writer(f3)\n",
        "cw.writerows(d3)\n",
        "\n",
        "print(max(d3))\n",
        "\n",
        "f1.close()\n",
        "f2.close()\n",
        "f3.close()\n",
        "cgpa=[]\n",
        "with open('/content/stud_info', mode ='r')as file:\n",
        "\n",
        "  csvFile = csv.reader(file)\n",
        "\n",
        "  for lines in csvFile:\n",
        "    cgpa.append(float(lines[4]))\n",
        "\n",
        "\n",
        "print(\"\\nMaximum cgpa:\", max(cgpa))\n",
        "print(\"Minimum cgpa:\", min(cgpa))\n",
        "print(\"Sum of cgpa:\",sum(cgpa))\n",
        "print(\"Average cgpa:\",sum(cgpa)/len(cgpa))\n"
      ]
    },
    {
      "cell_type": "code",
      "source": [
        "\n"
      ],
      "metadata": {
        "id": "1ZbxeUidxMW5"
      },
      "execution_count": null,
      "outputs": []
    }
  ]
}