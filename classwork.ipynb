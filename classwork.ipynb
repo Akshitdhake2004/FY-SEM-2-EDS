{
  "nbformat": 4,
  "nbformat_minor": 0,
  "metadata": {
    "colab": {
      "provenance": [],
      "toc_visible": true,
      "authorship_tag": "ABX9TyO1Ka8Fn5+BVexT+FepUaXZ",
      "include_colab_link": true
    },
    "kernelspec": {
      "name": "python3",
      "display_name": "Python 3"
    },
    "language_info": {
      "name": "python"
    }
  },
  "cells": [
    {
      "cell_type": "markdown",
      "metadata": {
        "id": "view-in-github",
        "colab_type": "text"
      },
      "source": [
        "<a href=\"https://colab.research.google.com/github/Akshitdhake2004/FY-SEM-2-EDS/blob/main/classwork.ipynb\" target=\"_parent\"><img src=\"https://colab.research.google.com/assets/colab-badge.svg\" alt=\"Open In Colab\"/></a>"
      ]
    },
    {
      "cell_type": "code",
      "execution_count": null,
      "metadata": {
        "colab": {
          "base_uri": "https://localhost:8080/"
        },
        "id": "9CGSS4EKIKn0",
        "outputId": "aa431197-2b7f-4632-9380-22430d674fcc"
      },
      "outputs": [
        {
          "output_type": "stream",
          "name": "stdout",
          "text": [
            "[10, 20, 30, 40, 50, 60, 'akshit', 'pratham', 'nihar']\n"
          ]
        }
      ],
      "source": [
        "friends=(\"akshit\",\"pratham\",\"nihar\")\n",
        "list1=[10,20,30,40,50,60]\n",
        "list7=list(friends)\n",
        "print(list1+list7)\n"
      ]
    },
    {
      "cell_type": "code",
      "source": [
        "x = lambda a:a**1/2\n",
        "print(x(2))"
      ],
      "metadata": {
        "colab": {
          "base_uri": "https://localhost:8080/"
        },
        "id": "dqUoltenL2yK",
        "outputId": "f3c37f6c-66d4-4c88-bcd4-f0c668f2472b"
      },
      "execution_count": null,
      "outputs": [
        {
          "output_type": "stream",
          "name": "stdout",
          "text": [
            "1.0\n"
          ]
        }
      ]
    },
    {
      "cell_type": "code",
      "source": [
        "a=[10,20,30,40,50]\n",
        "b=[20,40,60,80]\n",
        "c=(a[3]== and b[1]==40)"
      ],
      "metadata": {
        "id": "JQ-u7ugMNbr3"
      },
      "execution_count": null,
      "outputs": []
    }
  ]
}